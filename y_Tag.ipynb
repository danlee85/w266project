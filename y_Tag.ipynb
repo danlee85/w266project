{
 "cells": [
  {
   "cell_type": "markdown",
   "metadata": {
    "collapsed": true
   },
   "source": [
    "**US Public Listed Companies with focus on US Market\n",
    "\n",
    "Drugstores\n",
    "CVS Health Corporation [CVS]\n",
    "Rite Aid Corporation [RAD]\n",
    "\n",
    "Furniture\n",
    "Conn's Inc. [CONN]\n",
    "\n",
    "\n",
    "Grocery Stores\n",
    "Casey's General Stores Inc. [CASY]\n",
    "The Kroger Company [KR]\n",
    "SUPERVALU Inc. [SVU]\n",
    "Village Super Market Inc. [VLGEA]\n",
    "Weis Markets Inc. [WMK]\n",
    "\n",
    "Home Furnishings Stores\n",
    "Haverty Furniture Companies Inc. [HVT]\n",
    "Kirkland's Inc. [KIRK]\n",
    "Pier 1 Imports Inc. [PIR]\n",
    "\n",
    "\n",
    "Home Improvement Stores\n",
    "Builders FirstSource Inc. [BLDR]\n",
    "Huttig Building Products Inc. [HBP]\n",
    "Lumber Liquidators, Inc. [LL]\n",
    "\n",
    "Music and Video Retail\n",
    "Trans World Entertainment Corporation [TWMC]\n",
    "\n",
    "Specialty Retail\n",
    "Barnes & Noble Inc. [BKS]\n",
    "MarineMax Inc. [HZO]\n",
    "\n",
    "Medifast Inc. [MED]\n",
    "Office Depot Inc. [ODP]\n",
    "Sally Beauty Holdings Inc. [SBH]\n",
    "Sotheby's [BID]\n",
    "Star Gas Partners L.P. [SGU]\n",
    "Suburban Propane Partners L.P. [SPH]\n",
    "Titan Machinery Inc. [TITN]\n",
    "Tractor Supply Company [TSCO]\n",
    "TravelCenters of America LLC [TA]\n",
    "Vertical Branding Inc. [VBDG.OB]\n",
    "\n",
    "Sporting Goods Stores\n",
    "Big 5 Sporting Goods Corporation [BGFV]\n",
    "Dick's Sporting Goods Inc. [DKS]\n",
    "Hibbett Sports Inc. [HIBB]\n",
    "\n",
    "Toy and Hobby Stores\n",
    "Build-A-Bear Workshop Inc. [BBW]"
   ]
  },
  {
   "cell_type": "code",
   "execution_count": 33,
   "metadata": {
    "collapsed": false
   },
   "outputs": [
    {
     "name": "stdout",
     "output_type": "stream",
     "text": [
      "{\"Kirkland's\": 'KIRK', 'Haverty Furniture': 'HVT', \"Dick's Sporting Goods\": 'DKS', 'Big 5 Sporting Goods': 'BGFV', 'Star Gas Partners': 'SGU', 'Trans World Entertainment': 'TWMC', 'Hibbett Sports': 'HIBB', 'Huttig Building Products': 'HBP', 'TravelCenters of America': 'TA', \"Sotheby's\": 'BID', 'Lumber Liquidators': 'LL', \"Casey's\": 'CASY', 'Build-A-Bear Workshop': 'BBW', 'Builders FirstSource': 'BLDR', 'MarineMax': 'HZO', 'SUPERVALU': 'SVU', \"Conn's\": 'CONN', 'Kroger': 'KR', 'Tractor Supply': 'TSCO', 'Pier 1 Imports': 'PIR', 'CVS Health': 'CVS', 'Rite Aid': 'RAD', 'Barnes & Noble': 'BKS', 'Sally Beauty Holdings': 'SBH', 'Medifast': 'MED', 'Suburban Propane Partners': 'SPH', 'Weis Markets': 'WMK', 'Titan Machinery': 'TITN', 'Village Super Market': 'VLGEA'}\n"
     ]
    }
   ],
   "source": [
    "l = [(\"CVS Health\", \"CVS\"),(\"Rite Aid\", \"RAD\"),\n",
    "(\"Conn's\", \"CONN\"),\n",
    "(\"Casey's\", \"CASY\"),\n",
    "(\"Kroger\", \"KR\"),\n",
    "(\"SUPERVALU\", \"SVU\"),\n",
    "(\"Village Super Market\", \"VLGEA\"),\n",
    "(\"Weis Markets\", \"WMK\"),\n",
    "(\"Haverty Furniture\", \"HVT\"),\n",
    "(\"Kirkland's\", \"KIRK\"),\n",
    "(\"Pier 1 Imports\",\"PIR\"),\n",
    "(\"Builders FirstSource\",\"BLDR\"),\n",
    "(\"Huttig Building Products\", \"HBP\"),\n",
    "(\"Lumber Liquidators\", \"LL\"),\n",
    "(\"Trans World Entertainment\", \"TWMC\"),\n",
    "(\"Barnes & Noble\", \"BKS\"),\n",
    "(\"MarineMax\", \"HZO\"),\n",
    "(\"Medifast\", \"MED\"),\n",
    "(\"Sally Beauty Holdings\", \"SBH\"),\n",
    "(\"Sotheby's\", \"BID\"),\n",
    "(\"Star Gas Partners\", \"SGU\"),\n",
    "(\"Suburban Propane Partners\", \"SPH\"),\n",
    "(\"Titan Machinery\", \"TITN\"),\n",
    "(\"Tractor Supply\",\"TSCO\"),\n",
    "(\"TravelCenters of America\", \"TA\"),\n",
    "(\"Big 5 Sporting Goods\", \"BGFV\"),\n",
    "(\"Dick's Sporting Goods\", \"DKS\"),\n",
    "(\"Hibbett Sports\", \"HIBB\"),\n",
    "(\"Build-A-Bear Workshop\", \"BBW\")]\n",
    "     \n",
    "all_stock = {}\n",
    "[all_stock.update({k:v}) for k,v in l]\n",
    "print(all_stock)\n",
    "#all_stock=['CVS','RAD','CONN','CASY','KR','SVU','VLGEA','WMK,HVT,KIRK, PIR,BLDR,HBP,LL,TWMC,HZO,MED,ODP,SBH,BID,SGU,SPH, TITN,TSCO, TA, BGFV,DKS, HIBB, BBW]"
   ]
  },
  {
   "cell_type": "code",
   "execution_count": 34,
   "metadata": {
    "collapsed": true
   },
   "outputs": [],
   "source": [
    "import urllib.request, json \n",
    "from collections import defaultdict\n",
    "import datetime as DT"
   ]
  },
  {
   "cell_type": "code",
   "execution_count": 44,
   "metadata": {
    "collapsed": false
   },
   "outputs": [],
   "source": [
    "top=\"http://datafied.api.edgar-online.com/v2/corefinancials/qtr?primarysymbols=\"\n",
    "bottom=\"&appkey=asc97xrhkyu4959aptu76zxj\"\n",
    "\n"
   ]
  },
  {
   "cell_type": "code",
   "execution_count": 58,
   "metadata": {
    "collapsed": false,
    "scrolled": true
   },
   "outputs": [],
   "source": [
    "Revenue_Table =defaultdict(dict)\n",
    "for stock in all_stock.values():\n",
    "    check=top+stock+bottom\n",
    "    with urllib.request.urlopen(check) as url:\n",
    "        data = json.loads(url.read().decode())\n",
    "    count1=0\n",
    "    count2=0\n",
    "    end_date=[]\n",
    "    start_date=[]\n",
    "    revenue_change=[]\n",
    "    last_rev=0\n",
    "\n",
    "    for key, value in data.items():\n",
    "        \n",
    "        for key2, value2 in value.items():          \n",
    "        \n",
    "            if count1!=0:  \n",
    "                for i in reversed(value2):\n",
    "                  \n",
    "                    for j in i[\"values\"]:\n",
    "                     \n",
    "                        if count2!=0:   \n",
    "                            if j[\"field\"] ==\"periodenddate\":\n",
    "                                end_date.append(DT.datetime.strptime(j['value'], '%m/%d/%Y'))\n",
    "                                start_date.append(DT.datetime.strptime(j['value'], '%m/%d/%Y')- DT.timedelta(days=90))\n",
    "                    \n",
    "                            if j[\"field\"] ==\"totalrevenue\":\n",
    "                                revenue_cal =round(float(j['value'])/float(last_rev) - 1,3)\n",
    "                                revenue_change.append(revenue_cal)\n",
    "                        else:\n",
    "                            \n",
    "                            if j[\"field\"] ==\"totalrevenue\":      \n",
    "                                last_rev=j['value']\n",
    "                              \n",
    "                    count2+=1\n",
    "            count1+=1\n",
    "            \n",
    "    Revenue_Table[stock][\"startdate\"]=start_date\n",
    "    Revenue_Table[stock][\"enddate\"]=end_date\n",
    "    Revenue_Table[stock][\"revenuechange\"]=revenue_change\n",
    "        "
   ]
  },
  {
   "cell_type": "code",
   "execution_count": 59,
   "metadata": {
    "collapsed": false
   },
   "outputs": [
    {
     "name": "stdout",
     "output_type": "stream",
     "text": [
      "{'revenuechange': [-0.028, 0.004, -0.0, 0.035, 0.016, 0.035, 3.098, 0.036, 0.002, 0.035, 0.01, 0.032, 0.011, 0.033, 0.002], 'enddate': [datetime.datetime(2015, 3, 31, 0, 0), datetime.datetime(2015, 6, 30, 0, 0), datetime.datetime(2015, 9, 30, 0, 0), datetime.datetime(2015, 12, 31, 0, 0), datetime.datetime(2016, 3, 31, 0, 0), datetime.datetime(2016, 6, 30, 0, 0), datetime.datetime(2016, 9, 30, 0, 0), datetime.datetime(2016, 12, 31, 0, 0), datetime.datetime(2017, 3, 31, 0, 0), datetime.datetime(2017, 6, 30, 0, 0), datetime.datetime(2017, 9, 30, 0, 0), datetime.datetime(2017, 12, 31, 0, 0), datetime.datetime(2018, 3, 31, 0, 0), datetime.datetime(2018, 6, 30, 0, 0), datetime.datetime(2018, 9, 30, 0, 0)], 'startdate': [datetime.datetime(2014, 12, 31, 0, 0), datetime.datetime(2015, 4, 1, 0, 0), datetime.datetime(2015, 7, 2, 0, 0), datetime.datetime(2015, 10, 2, 0, 0), datetime.datetime(2016, 1, 1, 0, 0), datetime.datetime(2016, 4, 1, 0, 0), datetime.datetime(2016, 7, 2, 0, 0), datetime.datetime(2016, 10, 2, 0, 0), datetime.datetime(2016, 12, 31, 0, 0), datetime.datetime(2017, 4, 1, 0, 0), datetime.datetime(2017, 7, 2, 0, 0), datetime.datetime(2017, 10, 2, 0, 0), datetime.datetime(2017, 12, 31, 0, 0), datetime.datetime(2018, 4, 1, 0, 0), datetime.datetime(2018, 7, 2, 0, 0)]}\n"
     ]
    }
   ],
   "source": [
    "print(Revenue_Table['SBH'])"
   ]
  },
  {
   "cell_type": "code",
   "execution_count": null,
   "metadata": {
    "collapsed": true
   },
   "outputs": [],
   "source": []
  }
 ],
 "metadata": {
  "anaconda-cloud": {},
  "kernelspec": {
   "display_name": "Python [Root]",
   "language": "python",
   "name": "Python [Root]"
  },
  "language_info": {
   "codemirror_mode": {
    "name": "ipython",
    "version": 3
   },
   "file_extension": ".py",
   "mimetype": "text/x-python",
   "name": "python",
   "nbconvert_exporter": "python",
   "pygments_lexer": "ipython3",
   "version": "3.5.2"
  }
 },
 "nbformat": 4,
 "nbformat_minor": 0
}
