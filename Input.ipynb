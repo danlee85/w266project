{
 "cells": [
  {
   "cell_type": "code",
   "execution_count": 372,
   "metadata": {
    "collapsed": false
   },
   "outputs": [],
   "source": [
    "# Import the necessary package to process data in JSON format\n",
    "try:\n",
    "    import json\n",
    "except ImportError:\n",
    "    import simplejson as json\n",
    "\n",
    "# Import the necessary methods from \"twitter\" library\n",
    "from twitter import Twitter, OAuth, TwitterHTTPError, TwitterStream\n",
    "\n",
    "from nltk.tokenize.treebank import TreebankWordTokenizer\n",
    "from w266_common import utils, vocabulary\n",
    "from collections import defaultdict\n",
    "tokenizer = TreebankWordTokenizer()"
   ]
  },
  {
   "cell_type": "code",
   "execution_count": 375,
   "metadata": {
    "collapsed": false
   },
   "outputs": [
    {
     "name": "stdout",
     "output_type": "stream",
     "text": [
      "{\"Dick's Sporting Goods\": 'DKS', 'Barnes & Noble': 'BKS', 'Medifast': 'MED', 'Build-A-Bear Workshop': 'BBW', 'Haverty Furniture': 'HVT', \"Kirkland's\": 'KIRK', \"Casey's\": 'CASY', 'MarineMax': 'HZO', 'Sally Beauty Holdings': 'SBH', 'Big 5 Sporting Goods': 'BGFV', 'TravelCenters of America': 'TA', 'Suburban Propane Partners': 'SPH', \"Conn's\": 'CONN', 'Kroger': 'KR', 'Huttig Building Products': 'HBP', \"Sotheby's\": 'BID', 'Weis Markets': 'WMK', 'CVS Health': 'CVS', 'Titan Machinery': 'TITN', 'Rite Aid': 'RAD', 'Hibbett Sports': 'HIBB', 'SUPERVALU': 'SVU', 'Lumber Liquidators': 'LL', 'Builders FirstSource': 'BLDR', 'Tractor Supply': 'TSCO', 'Village Super Market': 'VLGEA', 'Star Gas Partners': 'SGU', 'Trans World Entertainment': 'TWMC', 'Pier 1 Imports': 'PIR'}\n"
     ]
    }
   ],
   "source": [
    "l = [(\"CVS Health\", \"CVS\"),(\"Rite Aid\", \"RAD\"),\n",
    "(\"Conn's\", \"CONN\"),\n",
    "(\"Casey's\", \"CASY\"),\n",
    "(\"Kroger\", \"KR\"),\n",
    "(\"SUPERVALU\", \"SVU\"),\n",
    "(\"Village Super Market\", \"VLGEA\"),\n",
    "(\"Weis Markets\", \"WMK\"),\n",
    "(\"Haverty Furniture\", \"HVT\"),\n",
    "(\"Kirkland's\", \"KIRK\"),\n",
    "(\"Pier 1 Imports\",\"PIR\"),\n",
    "(\"Builders FirstSource\",\"BLDR\"),\n",
    "(\"Huttig Building Products\", \"HBP\"),\n",
    "(\"Lumber Liquidators\", \"LL\"),\n",
    "(\"Trans World Entertainment\", \"TWMC\"),\n",
    "(\"Barnes & Noble\", \"BKS\"),\n",
    "(\"MarineMax\", \"HZO\"),\n",
    "(\"Medifast\", \"MED\"),\n",
    "(\"Sally Beauty Holdings\", \"SBH\"),\n",
    "(\"Sotheby's\", \"BID\"),\n",
    "(\"Star Gas Partners\", \"SGU\"),\n",
    "(\"Suburban Propane Partners\", \"SPH\"),\n",
    "(\"Titan Machinery\", \"TITN\"),\n",
    "(\"Tractor Supply\",\"TSCO\"),\n",
    "(\"TravelCenters of America\", \"TA\"),\n",
    "(\"Big 5 Sporting Goods\", \"BGFV\"),\n",
    "(\"Dick's Sporting Goods\", \"DKS\"),\n",
    "(\"Hibbett Sports\", \"HIBB\"),\n",
    "(\"Build-A-Bear Workshop\", \"BBW\")]\n",
    "     \n",
    "all_stock = {}\n",
    "[all_stock.update({k:v}) for k,v in l]\n",
    "print(all_stock)"
   ]
  },
  {
   "cell_type": "code",
   "execution_count": 376,
   "metadata": {
    "collapsed": false,
    "scrolled": true
   },
   "outputs": [],
   "source": [
    "\n",
    "CONSUMER_KEY = '83vxYA0mOGpI6dy0ZqmTptgEk'\n",
    "CONSUMER_SECRET = '93DK49v8EjQv4fBbL0L9dlGtV794RG1hJa2Sxy1tJR2QjhHDbv'\n"
   ]
  },
  {
   "cell_type": "code",
   "execution_count": 377,
   "metadata": {
    "collapsed": false
   },
   "outputs": [],
   "source": [
    "import base64\n",
    "import requests\n",
    "\n",
    "key_secret = '{}:{}'.format(CONSUMER_KEY, CONSUMER_SECRET).encode('ascii')\n",
    "b64_encoded_key = base64.b64encode(key_secret)\n",
    "b64_encoded_key = b64_encoded_key.decode('ascii')\n",
    "\n",
    "\n",
    "\n",
    "base_url = 'https://api.twitter.com/'\n",
    "auth_url = '{}oauth2/token'.format(base_url)\n",
    "\n",
    "auth_headers = {\n",
    "    'Authorization': 'Basic {}'.format(b64_encoded_key),\n",
    "    'Content-Type': 'application/x-www-form-urlencoded;charset=UTF-8'\n",
    "}\n",
    "\n",
    "auth_data = {\n",
    "    'grant_type': 'client_credentials'\n",
    "}\n",
    "\n",
    "auth_resp = requests.post(auth_url, headers=auth_headers, data=auth_data)\n",
    "\n",
    "\n",
    "access_token = auth_resp.json()['access_token']\n",
    "\n",
    "search_headers = {\n",
    "    'Authorization': 'Bearer {}'.format(access_token)    \n",
    "}"
   ]
  },
  {
   "cell_type": "code",
   "execution_count": 378,
   "metadata": {
    "collapsed": false,
    "scrolled": true
   },
   "outputs": [
    {
     "name": "stdout",
     "output_type": "stream",
     "text": [
      "{'error': {'sent': '2018-11-24T14:57:04+00:00', 'transactionId': '00c9781400085716', 'message': 'Forbidden: Authentication succeeded but account is not authorized to access this resource.'}}\n"
     ]
    }
   ],
   "source": [
    "Input=defaultdict(list)\n",
    "\n",
    "search_url = '{}1.1/tweets/search/fullarchive/dev.json'.format(base_url)\n",
    "\n",
    "count=0\n",
    "Next=None\n",
    "stock='Medifast'\n",
    "while count==0:\n",
    "    search_params = {\n",
    "    'query': stock,\n",
    "    'fromDate' :'201501010000',\n",
    "    'toDate' :'201811010000',\n",
    "    'maxResults': 100,\n",
    "    \"next\": Next\n",
    "    }\n",
    "    \n",
    "    search_resp = requests.get(search_url, headers=search_headers, params=search_params)\n",
    "    search_resp.status_code\n",
    "    tweet_data = search_resp.json()\n",
    "    print(tweet_data)\n",
    "    if 'next' not in tweet_data.keys():\n",
    "        count+=1\n",
    "    for key,value in tweet_data.items():\n",
    "        if key=='results':\n",
    "            for j in value:\n",
    "                Input[stock].append([j[\"created_at\"] , j[\"retweet_count\"], utils.canonicalize_words(tokenizer.tokenize(j[\"text\"]))])\n",
    "        \n",
    "        elif key=='next':\n",
    "            Next= value"
   ]
  },
  {
   "cell_type": "code",
   "execution_count": 365,
   "metadata": {
    "collapsed": false
   },
   "outputs": [
    {
     "name": "stdout",
     "output_type": "stream",
     "text": [
      "[]\n"
     ]
    }
   ],
   "source": [
    "print(Input[\"Medifast\"])"
   ]
  },
  {
   "cell_type": "code",
   "execution_count": null,
   "metadata": {
    "collapsed": true
   },
   "outputs": [],
   "source": []
  }
 ],
 "metadata": {
  "kernelspec": {
   "display_name": "Python [Root]",
   "language": "python",
   "name": "Python [Root]"
  },
  "language_info": {
   "codemirror_mode": {
    "name": "ipython",
    "version": 3
   },
   "file_extension": ".py",
   "mimetype": "text/x-python",
   "name": "python",
   "nbconvert_exporter": "python",
   "pygments_lexer": "ipython3",
   "version": "3.5.2"
  }
 },
 "nbformat": 4,
 "nbformat_minor": 0
}
