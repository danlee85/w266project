{
 "cells": [
  {
   "cell_type": "code",
   "execution_count": 102,
   "metadata": {
    "collapsed": false
   },
   "outputs": [],
   "source": [
    "import matplotlib.pyplot as plt\n",
    "import fix_yahoo_finance as yf  \n",
    "\n",
    "from collections import defaultdict\n"
   ]
  },
  {
   "cell_type": "code",
   "execution_count": 80,
   "metadata": {
    "collapsed": false
   },
   "outputs": [],
   "source": [
    "stock =['AAPL','GOOGL']\n"
   ]
  },
  {
   "cell_type": "code",
   "execution_count": 82,
   "metadata": {
    "collapsed": false
   },
   "outputs": [
    {
     "name": "stdout",
     "output_type": "stream",
     "text": [
      "[*********************100%***********************]  1 of 1 downloaded\n",
      "[*********************100%***********************]  1 of 1 downloaded\n"
     ]
    }
   ],
   "source": [
    "\n",
    "record = defaultdict(list)\n",
    "\n",
    "for i in stock:\n",
    "    data = yf.download(i,'2016-01-01','2016-01-15', as_panel = False)\n",
    "\n",
    "\n",
    "    count=0\n",
    "\n",
    "    for index, row in data.iterrows():\n",
    "        if count!=0:\n",
    "        \n",
    "            record[i].append([index, 100*(row[\"Close\"]-temp)/temp])\n",
    "        temp=row[\"Close\"]\n",
    "        count+=1"
   ]
  },
  {
   "cell_type": "code",
   "execution_count": 83,
   "metadata": {
    "collapsed": false
   },
   "outputs": [
    {
     "name": "stdout",
     "output_type": "stream",
     "text": [
      "defaultdict(<class 'list'>, {'AAPL': [[Timestamp('2016-01-04 00:00:00'), 0.085498763338422989], [Timestamp('2016-01-05 00:00:00'), -2.5059317039569406], [Timestamp('2016-01-06 00:00:00'), -1.9569681818417699], [Timestamp('2016-01-07 00:00:00'), -4.2204569281168896], [Timestamp('2016-01-08 00:00:00'), 0.52877347419720511], [Timestamp('2016-01-11 00:00:00'), 1.619224439142174], [Timestamp('2016-01-12 00:00:00'), 1.4513346336276656], [Timestamp('2016-01-13 00:00:00'), -2.5710284370851118], [Timestamp('2016-01-14 00:00:00'), 2.1870808315749142]], 'GOOGL': [[Timestamp('2016-01-04 00:00:00'), -2.3868597783208512], [Timestamp('2016-01-05 00:00:00'), 0.27520633552301049], [Timestamp('2016-01-06 00:00:00'), -0.28889366357475776], [Timestamp('2016-01-07 00:00:00'), -2.4139723953517827], [Timestamp('2016-01-08 00:00:00'), -1.3616770580296846], [Timestamp('2016-01-11 00:00:00'), 0.29552668314733693], [Timestamp('2016-01-12 00:00:00'), 1.6737855706596834], [Timestamp('2016-01-13 00:00:00'), -3.4574850493035352], [Timestamp('2016-01-14 00:00:00'), 1.6426487881671852]]})\n"
     ]
    }
   ],
   "source": [
    "print(record)"
   ]
  },
  {
   "cell_type": "markdown",
   "metadata": {
    "collapsed": true
   },
   "source": [
    "**US Public Listed Companies with focus on US Market\n",
    "\n",
    "Drugstores\n",
    "CVS Health Corporation [CVS]\n",
    "Rite Aid Corporation [RAD]\n",
    "\n",
    "Furniture\n",
    "Conn's Inc. [CONN]\n",
    "\n",
    "\n",
    "Grocery Stores\n",
    "Casey's General Stores Inc. [CASY]\n",
    "The Kroger Company [KR]\n",
    "SUPERVALU Inc. [SVU]\n",
    "Village Super Market Inc. [VLGEA]\n",
    "Weis Markets Inc. [WMK]\n",
    "\n",
    "Home Furnishings Stores\n",
    "Haverty Furniture Companies Inc. [HVT]\n",
    "Kirkland's Inc. [KIRK]\n",
    "Pier 1 Imports Inc. [PIR]\n",
    "\n",
    "\n",
    "Home Improvement Stores\n",
    "Builders FirstSource Inc. [BLDR]\n",
    "Huttig Building Products Inc. [HBP]\n",
    "Lumber Liquidators, Inc. [LL]\n",
    "\n",
    "Music and Video Retail\n",
    "Trans World Entertainment Corporation [TWMC]\n",
    "\n",
    "Specialty Retail\n",
    "Barnes & Noble Inc. [BKS]\n",
    "MarineMax Inc. [HZO]\n",
    "\n",
    "Medifast Inc. [MED]\n",
    "Office Depot Inc. [ODP]\n",
    "Sally Beauty Holdings Inc. [SBH]\n",
    "Sotheby's [BID]\n",
    "Star Gas Partners L.P. [SGU]\n",
    "Suburban Propane Partners L.P. [SPH]\n",
    "Titan Machinery Inc. [TITN]\n",
    "Tractor Supply Company [TSCO]\n",
    "TravelCenters of America LLC [TA]\n",
    "Vertical Branding Inc. [VBDG.OB]\n",
    "\n",
    "Sporting Goods Stores\n",
    "Big 5 Sporting Goods Corporation [BGFV]\n",
    "Dick's Sporting Goods Inc. [DKS]\n",
    "Hibbett Sports Inc. [HIBB]\n",
    "\n",
    "Toy and Hobby Stores\n",
    "Build-A-Bear Workshop Inc. [BBW]"
   ]
  },
  {
   "cell_type": "code",
   "execution_count": 128,
   "metadata": {
    "collapsed": false
   },
   "outputs": [
    {
     "name": "stdout",
     "output_type": "stream",
     "text": [
      "{'Weis Markets': 'WMK', 'Pier 1 Imports': 'PIR', \"Kirkland's\": 'KIRK', 'TravelCenters of America': 'TA', 'Build-A-Bear Workshop': 'BBW', 'Kroger': 'KR', 'Sally Beauty Holdings': 'SBH', 'MarineMax': 'HZO', 'Haverty Furniture': 'HVT', 'CVS Health': 'CVS', 'Lumber Liquidators': 'LL', \"Dick's Sporting Goods\": 'DKS', 'Builders FirstSource': 'BLDR', 'Village Super Market': 'VLGEA', 'Suburban Propane Partners': 'SPH', 'Huttig Building Products': 'HBP', 'Big 5 Sporting Goods': 'BGFV', 'Barnes & Noble': 'BKS', \"Conn's\": 'CONN', 'Medifast': 'MED', 'Star Gas Partners': 'SGU', 'Titan Machinery': 'TITN', 'Rite Aid': 'RAD', 'SUPERVALU': 'SVU', 'Tractor Supply': 'TSCO', \"Casey's\": 'CASY', \"Sotheby's\": 'BID', 'Hibbett Sports': 'HIBB', 'Trans World Entertainment': 'TWMC'}\n"
     ]
    }
   ],
   "source": [
    "l = [(\"CVS Health\", \"CVS\"),(\"Rite Aid\", \"RAD\"),\n",
    "(\"Conn's\", \"CONN\"),\n",
    "(\"Casey's\", \"CASY\"),\n",
    "(\"Kroger\", \"KR\"),\n",
    "(\"SUPERVALU\", \"SVU\"),\n",
    "(\"Village Super Market\", \"VLGEA\"),\n",
    "(\"Weis Markets\", \"WMK\"),\n",
    "(\"Haverty Furniture\", \"HVT\"),\n",
    "(\"Kirkland's\", \"KIRK\"),\n",
    "(\"Pier 1 Imports\",\"PIR\"),\n",
    "(\"Builders FirstSource\",\"BLDR\"),\n",
    "(\"Huttig Building Products\", \"HBP\"),\n",
    "(\"Lumber Liquidators\", \"LL\"),\n",
    "(\"Trans World Entertainment\", \"TWMC\"),\n",
    "(\"Barnes & Noble\", \"BKS\"),\n",
    "(\"MarineMax\", \"HZO\"),\n",
    "(\"Medifast\", \"MED\"),\n",
    "(\"Sally Beauty Holdings\", \"SBH\"),\n",
    "(\"Sotheby's\", \"BID\"),\n",
    "(\"Star Gas Partners\", \"SGU\"),\n",
    "(\"Suburban Propane Partners\", \"SPH\"),\n",
    "(\"Titan Machinery\", \"TITN\"),\n",
    "(\"Tractor Supply\",\"TSCO\"),\n",
    "(\"TravelCenters of America\", \"TA\"),\n",
    "(\"Big 5 Sporting Goods\", \"BGFV\"),\n",
    "(\"Dick's Sporting Goods\", \"DKS\"),\n",
    "(\"Hibbett Sports\", \"HIBB\"),\n",
    "(\"Build-A-Bear Workshop\", \"BBW\")]\n",
    "     \n",
    "all_stock = {}\n",
    "[all_stock.update({k:v}) for k,v in l]\n",
    "print(all_stock)\n",
    "#all_stock=['CVS','RAD','CONN','CASY','KR','SVU','VLGEA','WMK,HVT,KIRK, PIR,BLDR,HBP,LL,TWMC,HZO,MED,ODP,SBH,BID,SGU,SPH, TITN,TSCO, TA, BGFV,DKS, HIBB, BBW]"
   ]
  },
  {
   "cell_type": "code",
   "execution_count": 146,
   "metadata": {
    "collapsed": true
   },
   "outputs": [],
   "source": [
    "import urllib.request, json \n",
    "from collections import defaultdict\n",
    "import datetime as DT"
   ]
  },
  {
   "cell_type": "code",
   "execution_count": 147,
   "metadata": {
    "collapsed": false
   },
   "outputs": [],
   "source": [
    "top=\"http://datafied.api.edgar-online.com/v2/corefinancials/qtr?primarysymbols=\"\n",
    "bottom=\"&appkey=asc97xrhkyu4959aptu76zxj\"\n",
    "\n"
   ]
  },
  {
   "cell_type": "code",
   "execution_count": 148,
   "metadata": {
    "collapsed": false,
    "scrolled": false
   },
   "outputs": [],
   "source": [
    "Revenue_Table =defaultdict(dict)\n",
    "for stock in all_stock.values():\n",
    "    check=top+stock+bottom\n",
    "    with urllib.request.urlopen(check) as url:\n",
    "        data = json.loads(url.read().decode())\n",
    "    \n",
    "    end_date=[]\n",
    "    start_date=[]\n",
    "    revenue=[]\n",
    "    for key, value in data.items():\n",
    "        for key2, value2 in value.items():\n",
    "            for i in value2:\n",
    "                for j in i[\"values\"]:\n",
    "             \n",
    "                    if j[\"field\"] ==\"periodenddate\":\n",
    "                        end_date.append(DT.datetime.strptime(j['value'], '%m/%d/%Y'))\n",
    "                        start_date.append(DT.datetime.strptime(j['value'], '%m/%d/%Y')- DT.timedelta(days=90))\n",
    "                    \n",
    "                    if j[\"field\"] ==\"totalrevenue\":\n",
    "                        revenue.append(j['value'])\n",
    "            break      \n",
    "    Revenue_Table[stock][\"startdate\"]=start_date\n",
    "    Revenue_Table[stock][\"enddate\"]=end_date\n",
    "    Revenue_Table[stock][\"totalrevenue\"]=revenue\n",
    "        "
   ]
  },
  {
   "cell_type": "code",
   "execution_count": 149,
   "metadata": {
    "collapsed": false
   },
   "outputs": [
    {
     "name": "stdout",
     "output_type": "stream",
     "text": [
      "defaultdict(<class 'dict'>, {'DKS': {'enddate': [datetime.datetime(2018, 8, 4, 0, 0), datetime.datetime(2018, 5, 5, 0, 0), datetime.datetime(2018, 2, 3, 0, 0), datetime.datetime(2017, 10, 28, 0, 0), datetime.datetime(2017, 7, 29, 0, 0), datetime.datetime(2017, 4, 29, 0, 0), datetime.datetime(2017, 1, 28, 0, 0), datetime.datetime(2016, 10, 29, 0, 0), datetime.datetime(2016, 7, 30, 0, 0), datetime.datetime(2016, 4, 30, 0, 0), datetime.datetime(2016, 1, 30, 0, 0), datetime.datetime(2015, 10, 31, 0, 0), datetime.datetime(2015, 8, 1, 0, 0), datetime.datetime(2015, 5, 2, 0, 0), datetime.datetime(2015, 1, 31, 0, 0), datetime.datetime(2014, 11, 1, 0, 0)], 'totalrevenue': [2177488000.0, 1909719000.0, 2664122000.0, 1944187000.0, 2156911000.0, 1825252000.0, 2483433000.0, 1810347000.0, 1967857000.0, 1660343000.0, 2240051000.0, 1642627000.0, 1822979000.0, 1565308000.0, 2160006000.0, 1526675000.0], 'startdate': [datetime.datetime(2018, 5, 6, 0, 0), datetime.datetime(2018, 2, 4, 0, 0), datetime.datetime(2017, 11, 5, 0, 0), datetime.datetime(2017, 7, 30, 0, 0), datetime.datetime(2017, 4, 30, 0, 0), datetime.datetime(2017, 1, 29, 0, 0), datetime.datetime(2016, 10, 30, 0, 0), datetime.datetime(2016, 7, 31, 0, 0), datetime.datetime(2016, 5, 1, 0, 0), datetime.datetime(2016, 1, 31, 0, 0), datetime.datetime(2015, 11, 1, 0, 0), datetime.datetime(2015, 8, 2, 0, 0), datetime.datetime(2015, 5, 3, 0, 0), datetime.datetime(2015, 2, 1, 0, 0), datetime.datetime(2014, 11, 2, 0, 0), datetime.datetime(2014, 8, 3, 0, 0)]}, 'HZO': {'enddate': [datetime.datetime(2018, 9, 30, 0, 0), datetime.datetime(2018, 6, 30, 0, 0), datetime.datetime(2018, 3, 31, 0, 0), datetime.datetime(2017, 12, 31, 0, 0), datetime.datetime(2017, 9, 30, 0, 0), datetime.datetime(2017, 6, 30, 0, 0), datetime.datetime(2017, 3, 31, 0, 0), datetime.datetime(2016, 12, 31, 0, 0), datetime.datetime(2016, 9, 30, 0, 0), datetime.datetime(2016, 6, 30, 0, 0), datetime.datetime(2016, 3, 31, 0, 0), datetime.datetime(2015, 12, 31, 0, 0), datetime.datetime(2015, 9, 30, 0, 0), datetime.datetime(2015, 6, 30, 0, 0), datetime.datetime(2015, 3, 31, 0, 0), datetime.datetime(2014, 12, 31, 0, 0)], 'totalrevenue': [308591000.0, 361254000.0, 270605000.0, 236921000.0, 250618000.0, 329809000.0, 245018000.0, 226875000.0, 227355000.0, 345592000.0, 199566000.0, 169537000.0, 189252000.0, 231849000.0, 172143000.0, 158126000.0], 'startdate': [datetime.datetime(2018, 7, 2, 0, 0), datetime.datetime(2018, 4, 1, 0, 0), datetime.datetime(2017, 12, 31, 0, 0), datetime.datetime(2017, 10, 2, 0, 0), datetime.datetime(2017, 7, 2, 0, 0), datetime.datetime(2017, 4, 1, 0, 0), datetime.datetime(2016, 12, 31, 0, 0), datetime.datetime(2016, 10, 2, 0, 0), datetime.datetime(2016, 7, 2, 0, 0), datetime.datetime(2016, 4, 1, 0, 0), datetime.datetime(2016, 1, 1, 0, 0), datetime.datetime(2015, 10, 2, 0, 0), datetime.datetime(2015, 7, 2, 0, 0), datetime.datetime(2015, 4, 1, 0, 0), datetime.datetime(2014, 12, 31, 0, 0), datetime.datetime(2014, 10, 2, 0, 0)]}, 'VLGEA': {'enddate': [datetime.datetime(2018, 7, 28, 0, 0), datetime.datetime(2018, 4, 28, 0, 0), datetime.datetime(2018, 1, 27, 0, 0), datetime.datetime(2017, 10, 28, 0, 0), datetime.datetime(2017, 7, 29, 0, 0), datetime.datetime(2017, 4, 29, 0, 0), datetime.datetime(2017, 1, 28, 0, 0), datetime.datetime(2016, 10, 29, 0, 0), datetime.datetime(2016, 7, 30, 0, 0), datetime.datetime(2016, 4, 23, 0, 0), datetime.datetime(2016, 1, 23, 0, 0), datetime.datetime(2015, 10, 24, 0, 0), datetime.datetime(2015, 7, 25, 0, 0), datetime.datetime(2015, 4, 25, 0, 0), datetime.datetime(2015, 1, 24, 0, 0), datetime.datetime(2014, 10, 25, 0, 0)], 'totalrevenue': [413551000.0, 394608000.0, 417382000.0, 386474000.0, 410683000.0, 391984000.0, 412215000.0, 389692000.0, 437301000.0, 387905000.0, 420170000.0, 389529000.0, 405754000.0, 387100000.0, 411191000.0, 379744000.0], 'startdate': [datetime.datetime(2018, 4, 29, 0, 0), datetime.datetime(2018, 1, 28, 0, 0), datetime.datetime(2017, 10, 29, 0, 0), datetime.datetime(2017, 7, 30, 0, 0), datetime.datetime(2017, 4, 30, 0, 0), datetime.datetime(2017, 1, 29, 0, 0), datetime.datetime(2016, 10, 30, 0, 0), datetime.datetime(2016, 7, 31, 0, 0), datetime.datetime(2016, 5, 1, 0, 0), datetime.datetime(2016, 1, 24, 0, 0), datetime.datetime(2015, 10, 25, 0, 0), datetime.datetime(2015, 7, 26, 0, 0), datetime.datetime(2015, 4, 26, 0, 0), datetime.datetime(2015, 1, 25, 0, 0), datetime.datetime(2014, 10, 26, 0, 0), datetime.datetime(2014, 7, 27, 0, 0)]}, 'BLDR': {'enddate': [datetime.datetime(2018, 9, 30, 0, 0), datetime.datetime(2018, 6, 30, 0, 0), datetime.datetime(2018, 3, 31, 0, 0), datetime.datetime(2017, 12, 31, 0, 0), datetime.datetime(2017, 9, 30, 0, 0), datetime.datetime(2017, 6, 30, 0, 0), datetime.datetime(2017, 3, 31, 0, 0), datetime.datetime(2016, 12, 31, 0, 0), datetime.datetime(2016, 9, 30, 0, 0), datetime.datetime(2016, 6, 30, 0, 0), datetime.datetime(2016, 3, 31, 0, 0), datetime.datetime(2015, 12, 31, 0, 0), datetime.datetime(2015, 9, 30, 0, 0), datetime.datetime(2015, 6, 30, 0, 0), datetime.datetime(2015, 3, 31, 0, 0), datetime.datetime(2014, 12, 31, 0, 0)], 'totalrevenue': [2118467000.0, 2089888000.0, 1700436000.0, 1778939000.0, 1878909000.0, 1843297000.0, 1533064000.0, 1546912000.0, 1745958000.0, 1677300000.0, 1397114000.0, 1455855000.0, 1276063000.0, 461521000.0, 370986000.0, 396737000.0], 'startdate': [datetime.datetime(2018, 7, 2, 0, 0), datetime.datetime(2018, 4, 1, 0, 0), datetime.datetime(2017, 12, 31, 0, 0), datetime.datetime(2017, 10, 2, 0, 0), datetime.datetime(2017, 7, 2, 0, 0), datetime.datetime(2017, 4, 1, 0, 0), datetime.datetime(2016, 12, 31, 0, 0), datetime.datetime(2016, 10, 2, 0, 0), datetime.datetime(2016, 7, 2, 0, 0), datetime.datetime(2016, 4, 1, 0, 0), datetime.datetime(2016, 1, 1, 0, 0), datetime.datetime(2015, 10, 2, 0, 0), datetime.datetime(2015, 7, 2, 0, 0), datetime.datetime(2015, 4, 1, 0, 0), datetime.datetime(2014, 12, 31, 0, 0), datetime.datetime(2014, 10, 2, 0, 0)]}, 'KIRK': {'enddate': [datetime.datetime(2018, 8, 4, 0, 0), datetime.datetime(2018, 5, 5, 0, 0), datetime.datetime(2018, 2, 3, 0, 0), datetime.datetime(2017, 10, 28, 0, 0), datetime.datetime(2017, 7, 29, 0, 0), datetime.datetime(2017, 4, 29, 0, 0), datetime.datetime(2017, 1, 28, 0, 0), datetime.datetime(2016, 10, 29, 0, 0), datetime.datetime(2016, 7, 30, 0, 0), datetime.datetime(2016, 4, 30, 0, 0), datetime.datetime(2016, 1, 30, 0, 0), datetime.datetime(2015, 10, 31, 0, 0), datetime.datetime(2015, 8, 1, 0, 0), datetime.datetime(2015, 5, 2, 0, 0), datetime.datetime(2015, 1, 31, 0, 0), datetime.datetime(2014, 11, 1, 0, 0)], 'totalrevenue': [133899000.0, 142454000.0, 224614000.0, 144979000.0, 131683000.0, 132841000.0, 203160000.0, 138240000.0, 123017000.0, 129911000.0, 198970000.0, 129238000.0, 115289000.0, 118310000.0, 178683000.0, 117198000.0], 'startdate': [datetime.datetime(2018, 5, 6, 0, 0), datetime.datetime(2018, 2, 4, 0, 0), datetime.datetime(2017, 11, 5, 0, 0), datetime.datetime(2017, 7, 30, 0, 0), datetime.datetime(2017, 4, 30, 0, 0), datetime.datetime(2017, 1, 29, 0, 0), datetime.datetime(2016, 10, 30, 0, 0), datetime.datetime(2016, 7, 31, 0, 0), datetime.datetime(2016, 5, 1, 0, 0), datetime.datetime(2016, 1, 31, 0, 0), datetime.datetime(2015, 11, 1, 0, 0), datetime.datetime(2015, 8, 2, 0, 0), datetime.datetime(2015, 5, 3, 0, 0), datetime.datetime(2015, 2, 1, 0, 0), datetime.datetime(2014, 11, 2, 0, 0), datetime.datetime(2014, 8, 3, 0, 0)]}, 'BKS': {'enddate': [datetime.datetime(2018, 7, 28, 0, 0), datetime.datetime(2018, 4, 28, 0, 0), datetime.datetime(2018, 1, 27, 0, 0), datetime.datetime(2017, 10, 28, 0, 0), datetime.datetime(2017, 7, 29, 0, 0), datetime.datetime(2017, 4, 29, 0, 0), datetime.datetime(2017, 1, 28, 0, 0), datetime.datetime(2016, 10, 29, 0, 0), datetime.datetime(2016, 7, 30, 0, 0), datetime.datetime(2016, 4, 30, 0, 0), datetime.datetime(2016, 1, 30, 0, 0), datetime.datetime(2015, 10, 31, 0, 0), datetime.datetime(2015, 8, 1, 0, 0), datetime.datetime(2015, 5, 2, 0, 0), datetime.datetime(2015, 1, 31, 0, 0), datetime.datetime(2014, 11, 1, 0, 0)], 'totalrevenue': [794776000.0, 786076000.0, 1231771000.0, 791117000.0, 853316000.0, 821220000.0, 1300908000.0, 858548000.0, 913882000.0, 876684000.0, 1413947000.0, 894654000.0, 978559000.0, 910079000.0, 1440132000.0, 936544000.0], 'startdate': [datetime.datetime(2018, 4, 29, 0, 0), datetime.datetime(2018, 1, 28, 0, 0), datetime.datetime(2017, 10, 29, 0, 0), datetime.datetime(2017, 7, 30, 0, 0), datetime.datetime(2017, 4, 30, 0, 0), datetime.datetime(2017, 1, 29, 0, 0), datetime.datetime(2016, 10, 30, 0, 0), datetime.datetime(2016, 7, 31, 0, 0), datetime.datetime(2016, 5, 1, 0, 0), datetime.datetime(2016, 1, 31, 0, 0), datetime.datetime(2015, 11, 1, 0, 0), datetime.datetime(2015, 8, 2, 0, 0), datetime.datetime(2015, 5, 3, 0, 0), datetime.datetime(2015, 2, 1, 0, 0), datetime.datetime(2014, 11, 2, 0, 0), datetime.datetime(2014, 8, 3, 0, 0)]}, 'HVT': {'enddate': [datetime.datetime(2018, 9, 30, 0, 0), datetime.datetime(2018, 6, 30, 0, 0), datetime.datetime(2018, 3, 31, 0, 0), datetime.datetime(2017, 12, 31, 0, 0), datetime.datetime(2017, 9, 30, 0, 0), datetime.datetime(2017, 6, 30, 0, 0), datetime.datetime(2017, 3, 31, 0, 0), datetime.datetime(2016, 12, 31, 0, 0), datetime.datetime(2016, 9, 30, 0, 0), datetime.datetime(2016, 6, 30, 0, 0), datetime.datetime(2016, 3, 31, 0, 0), datetime.datetime(2015, 12, 31, 0, 0), datetime.datetime(2015, 9, 30, 0, 0), datetime.datetime(2015, 6, 30, 0, 0), datetime.datetime(2015, 3, 31, 0, 0), datetime.datetime(2014, 12, 31, 0, 0)], 'totalrevenue': [210571000.0, 198800000.0, 199474000.0, 214997000.0, 207685000.0, 196871000.0, 200472000.0, 220651000.0, 211744000.0, 194828000.0, 194576000.0, 215959000.0, 209992000.0, 187801000.0, 191403000.0, 213073000.0], 'startdate': [datetime.datetime(2018, 7, 2, 0, 0), datetime.datetime(2018, 4, 1, 0, 0), datetime.datetime(2017, 12, 31, 0, 0), datetime.datetime(2017, 10, 2, 0, 0), datetime.datetime(2017, 7, 2, 0, 0), datetime.datetime(2017, 4, 1, 0, 0), datetime.datetime(2016, 12, 31, 0, 0), datetime.datetime(2016, 10, 2, 0, 0), datetime.datetime(2016, 7, 2, 0, 0), datetime.datetime(2016, 4, 1, 0, 0), datetime.datetime(2016, 1, 1, 0, 0), datetime.datetime(2015, 10, 2, 0, 0), datetime.datetime(2015, 7, 2, 0, 0), datetime.datetime(2015, 4, 1, 0, 0), datetime.datetime(2014, 12, 31, 0, 0), datetime.datetime(2014, 10, 2, 0, 0)]}, 'TSCO': {'enddate': [datetime.datetime(2018, 9, 29, 0, 0), datetime.datetime(2018, 6, 30, 0, 0), datetime.datetime(2018, 3, 31, 0, 0), datetime.datetime(2017, 12, 30, 0, 0), datetime.datetime(2017, 9, 30, 0, 0), datetime.datetime(2017, 7, 1, 0, 0), datetime.datetime(2017, 4, 1, 0, 0), datetime.datetime(2016, 12, 31, 0, 0), datetime.datetime(2016, 9, 24, 0, 0), datetime.datetime(2016, 6, 25, 0, 0), datetime.datetime(2016, 3, 26, 0, 0), datetime.datetime(2015, 12, 26, 0, 0), datetime.datetime(2015, 9, 26, 0, 0), datetime.datetime(2015, 6, 27, 0, 0), datetime.datetime(2015, 3, 28, 0, 0), datetime.datetime(2014, 12, 27, 0, 0)], 'totalrevenue': [1881625000.0, 2213249000.0, 1682901000.0, 1952838000.0, 1721704000.0, 2017762000.0, 1564078000.0, 1916542000.0, 1542706000.0, 1852534000.0, 1467797000.0, 1646610000.0, 1475645000.0, 1772900000.0, 1331352000.0, 1584254000.0], 'startdate': [datetime.datetime(2018, 7, 1, 0, 0), datetime.datetime(2018, 4, 1, 0, 0), datetime.datetime(2017, 12, 31, 0, 0), datetime.datetime(2017, 10, 1, 0, 0), datetime.datetime(2017, 7, 2, 0, 0), datetime.datetime(2017, 4, 2, 0, 0), datetime.datetime(2017, 1, 1, 0, 0), datetime.datetime(2016, 10, 2, 0, 0), datetime.datetime(2016, 6, 26, 0, 0), datetime.datetime(2016, 3, 27, 0, 0), datetime.datetime(2015, 12, 27, 0, 0), datetime.datetime(2015, 9, 27, 0, 0), datetime.datetime(2015, 6, 28, 0, 0), datetime.datetime(2015, 3, 29, 0, 0), datetime.datetime(2014, 12, 28, 0, 0), datetime.datetime(2014, 9, 28, 0, 0)]}, 'BBW': {'enddate': [datetime.datetime(2018, 8, 4, 0, 0), datetime.datetime(2018, 5, 5, 0, 0), datetime.datetime(2017, 12, 30, 0, 0), datetime.datetime(2017, 9, 30, 0, 0), datetime.datetime(2017, 7, 29, 0, 0), datetime.datetime(2017, 7, 1, 0, 0), datetime.datetime(2017, 4, 29, 0, 0), datetime.datetime(2017, 4, 1, 0, 0), datetime.datetime(2016, 12, 31, 0, 0), datetime.datetime(2016, 10, 1, 0, 0), datetime.datetime(2016, 7, 2, 0, 0), datetime.datetime(2016, 4, 2, 0, 0), datetime.datetime(2016, 1, 2, 0, 0), datetime.datetime(2015, 10, 3, 0, 0), datetime.datetime(2015, 7, 4, 0, 0), datetime.datetime(2015, 4, 4, 0, 0)], 'totalrevenue': [83178000.0, 83184000.0, 107581000.0, 82428000.0, 79180000.0, 77226000.0, 91203000.0, 90632000.0, 110342000.0, 83748000.0, 75139000.0, 94976000.0, 117665000.0, 85623000.0, 81014000.0, 93393000.0], 'startdate': [datetime.datetime(2018, 5, 6, 0, 0), datetime.datetime(2018, 2, 4, 0, 0), datetime.datetime(2017, 10, 1, 0, 0), datetime.datetime(2017, 7, 2, 0, 0), datetime.datetime(2017, 4, 30, 0, 0), datetime.datetime(2017, 4, 2, 0, 0), datetime.datetime(2017, 1, 29, 0, 0), datetime.datetime(2017, 1, 1, 0, 0), datetime.datetime(2016, 10, 2, 0, 0), datetime.datetime(2016, 7, 3, 0, 0), datetime.datetime(2016, 4, 3, 0, 0), datetime.datetime(2016, 1, 3, 0, 0), datetime.datetime(2015, 10, 4, 0, 0), datetime.datetime(2015, 7, 5, 0, 0), datetime.datetime(2015, 4, 5, 0, 0), datetime.datetime(2015, 1, 4, 0, 0)]}, 'BGFV': {'enddate': [datetime.datetime(2018, 9, 30, 0, 0), datetime.datetime(2018, 7, 1, 0, 0), datetime.datetime(2018, 4, 1, 0, 0), datetime.datetime(2017, 12, 31, 0, 0), datetime.datetime(2017, 10, 1, 0, 0), datetime.datetime(2017, 7, 2, 0, 0), datetime.datetime(2017, 4, 2, 0, 0), datetime.datetime(2017, 1, 1, 0, 0), datetime.datetime(2016, 10, 2, 0, 0), datetime.datetime(2016, 7, 3, 0, 0), datetime.datetime(2016, 4, 3, 0, 0), datetime.datetime(2016, 1, 3, 0, 0), datetime.datetime(2015, 9, 27, 0, 0), datetime.datetime(2015, 6, 28, 0, 0), datetime.datetime(2015, 3, 29, 0, 0), datetime.datetime(2014, 12, 28, 0, 0)], 'totalrevenue': [266351000.0, 239951000.0, 234178000.0, 242889000.0, 270471000.0, 243671000.0, 252604000.0, 266283000.0, 279015000.0, 241409000.0, 234528000.0, 275006000.0, 270130000.0, 240407000.0, 243555000.0, 250332000.0], 'startdate': [datetime.datetime(2018, 7, 2, 0, 0), datetime.datetime(2018, 4, 2, 0, 0), datetime.datetime(2018, 1, 1, 0, 0), datetime.datetime(2017, 10, 2, 0, 0), datetime.datetime(2017, 7, 3, 0, 0), datetime.datetime(2017, 4, 3, 0, 0), datetime.datetime(2017, 1, 2, 0, 0), datetime.datetime(2016, 10, 3, 0, 0), datetime.datetime(2016, 7, 4, 0, 0), datetime.datetime(2016, 4, 4, 0, 0), datetime.datetime(2016, 1, 4, 0, 0), datetime.datetime(2015, 10, 5, 0, 0), datetime.datetime(2015, 6, 29, 0, 0), datetime.datetime(2015, 3, 30, 0, 0), datetime.datetime(2014, 12, 29, 0, 0), datetime.datetime(2014, 9, 29, 0, 0)]}, 'SPH': {'enddate': [datetime.datetime(2018, 9, 29, 0, 0), datetime.datetime(2018, 6, 30, 0, 0), datetime.datetime(2018, 3, 31, 0, 0), datetime.datetime(2017, 12, 30, 0, 0), datetime.datetime(2017, 9, 30, 0, 0), datetime.datetime(2017, 6, 24, 0, 0), datetime.datetime(2017, 3, 25, 0, 0), datetime.datetime(2016, 12, 24, 0, 0), datetime.datetime(2016, 9, 24, 0, 0), datetime.datetime(2016, 6, 25, 0, 0), datetime.datetime(2016, 3, 26, 0, 0), datetime.datetime(2015, 12, 26, 0, 0), datetime.datetime(2015, 9, 26, 0, 0), datetime.datetime(2015, 6, 27, 0, 0), datetime.datetime(2015, 3, 28, 0, 0), datetime.datetime(2014, 12, 27, 0, 0)], 'totalrevenue': [192918000.0, 241936000.0, 536282000.0, 373277000.0, 197106000.0, 222895000.0, 450578000.0, 317307000.0, 161015000.0, 205099000.0, 404140000.0, 275857000.0, 174344000.0, 220302000.0, 599389000.0, 422944000.0], 'startdate': [datetime.datetime(2018, 7, 1, 0, 0), datetime.datetime(2018, 4, 1, 0, 0), datetime.datetime(2017, 12, 31, 0, 0), datetime.datetime(2017, 10, 1, 0, 0), datetime.datetime(2017, 7, 2, 0, 0), datetime.datetime(2017, 3, 26, 0, 0), datetime.datetime(2016, 12, 25, 0, 0), datetime.datetime(2016, 9, 25, 0, 0), datetime.datetime(2016, 6, 26, 0, 0), datetime.datetime(2016, 3, 27, 0, 0), datetime.datetime(2015, 12, 27, 0, 0), datetime.datetime(2015, 9, 27, 0, 0), datetime.datetime(2015, 6, 28, 0, 0), datetime.datetime(2015, 3, 29, 0, 0), datetime.datetime(2014, 12, 28, 0, 0), datetime.datetime(2014, 9, 28, 0, 0)]}, 'WMK': {'enddate': [datetime.datetime(2018, 9, 29, 0, 0), datetime.datetime(2018, 6, 30, 0, 0), datetime.datetime(2018, 3, 31, 0, 0), datetime.datetime(2017, 12, 30, 0, 0), datetime.datetime(2017, 9, 30, 0, 0), datetime.datetime(2017, 7, 1, 0, 0), datetime.datetime(2017, 4, 1, 0, 0), datetime.datetime(2016, 12, 31, 0, 0), datetime.datetime(2016, 9, 24, 0, 0), datetime.datetime(2016, 6, 25, 0, 0), datetime.datetime(2016, 3, 26, 0, 0), datetime.datetime(2015, 12, 26, 0, 0), datetime.datetime(2015, 9, 26, 0, 0), datetime.datetime(2015, 6, 27, 0, 0), datetime.datetime(2015, 3, 28, 0, 0), datetime.datetime(2014, 12, 27, 0, 0)], 'totalrevenue': [869076000.0, 871100000.0, 876106000.0, 883748000.0, 854261000.0, 876569000.0, 852229000.0, 925098000.0, 742986000.0, 730433000.0, 738204000.0, 734063000.0, 711879000.0, 718380000.0, 712426000.0, 713789000.0], 'startdate': [datetime.datetime(2018, 7, 1, 0, 0), datetime.datetime(2018, 4, 1, 0, 0), datetime.datetime(2017, 12, 31, 0, 0), datetime.datetime(2017, 10, 1, 0, 0), datetime.datetime(2017, 7, 2, 0, 0), datetime.datetime(2017, 4, 2, 0, 0), datetime.datetime(2017, 1, 1, 0, 0), datetime.datetime(2016, 10, 2, 0, 0), datetime.datetime(2016, 6, 26, 0, 0), datetime.datetime(2016, 3, 27, 0, 0), datetime.datetime(2015, 12, 27, 0, 0), datetime.datetime(2015, 9, 27, 0, 0), datetime.datetime(2015, 6, 28, 0, 0), datetime.datetime(2015, 3, 29, 0, 0), datetime.datetime(2014, 12, 28, 0, 0), datetime.datetime(2014, 9, 28, 0, 0)]}, 'CASY': {'enddate': [datetime.datetime(2018, 7, 31, 0, 0), datetime.datetime(2018, 4, 30, 0, 0), datetime.datetime(2018, 1, 31, 0, 0), datetime.datetime(2017, 10, 31, 0, 0), datetime.datetime(2017, 7, 31, 0, 0), datetime.datetime(2017, 4, 30, 0, 0), datetime.datetime(2017, 1, 31, 0, 0), datetime.datetime(2016, 10, 31, 0, 0), datetime.datetime(2016, 7, 31, 0, 0), datetime.datetime(2016, 4, 30, 0, 0), datetime.datetime(2016, 1, 31, 0, 0), datetime.datetime(2015, 10, 31, 0, 0), datetime.datetime(2015, 7, 31, 0, 0), datetime.datetime(2015, 4, 30, 0, 0), datetime.datetime(2015, 1, 31, 0, 0), datetime.datetime(2014, 10, 31, 0, 0)], 'totalrevenue': [2588432000.0, 2089037000.0, 2054603000.0, 2153745000.0, 2093739000.0, 1846460000.0, 1769993000.0, 1920055000.0, 1970079000.0, 1582954000.0, 1565940000.0, 1924600000.0, 2048592000.0, 1653858000.0, 1671961000.0, 2150211000.0], 'startdate': [datetime.datetime(2018, 5, 2, 0, 0), datetime.datetime(2018, 1, 30, 0, 0), datetime.datetime(2017, 11, 2, 0, 0), datetime.datetime(2017, 8, 2, 0, 0), datetime.datetime(2017, 5, 2, 0, 0), datetime.datetime(2017, 1, 30, 0, 0), datetime.datetime(2016, 11, 2, 0, 0), datetime.datetime(2016, 8, 2, 0, 0), datetime.datetime(2016, 5, 2, 0, 0), datetime.datetime(2016, 1, 31, 0, 0), datetime.datetime(2015, 11, 2, 0, 0), datetime.datetime(2015, 8, 2, 0, 0), datetime.datetime(2015, 5, 2, 0, 0), datetime.datetime(2015, 1, 30, 0, 0), datetime.datetime(2014, 11, 2, 0, 0), datetime.datetime(2014, 8, 2, 0, 0)]}, 'BID': {'enddate': [datetime.datetime(2018, 9, 30, 0, 0), datetime.datetime(2018, 6, 30, 0, 0), datetime.datetime(2018, 3, 31, 0, 0), datetime.datetime(2017, 12, 31, 0, 0), datetime.datetime(2017, 9, 30, 0, 0), datetime.datetime(2017, 6, 30, 0, 0), datetime.datetime(2017, 3, 31, 0, 0), datetime.datetime(2016, 12, 31, 0, 0), datetime.datetime(2016, 9, 30, 0, 0), datetime.datetime(2016, 6, 30, 0, 0), datetime.datetime(2016, 3, 31, 0, 0), datetime.datetime(2015, 12, 31, 0, 0), datetime.datetime(2015, 9, 30, 0, 0), datetime.datetime(2015, 6, 30, 0, 0), datetime.datetime(2015, 3, 31, 0, 0), datetime.datetime(2014, 12, 31, 0, 0)], 'totalrevenue': [119161000.0, 345636000.0, 195796000.0, 270213000.0, 180008000.0, 339859000.0, 199309000.0, 308689000.0, 91492000.0, 298665000.0, 106531000.0, 335821000.0, 137992000.0, 332006000.0, 155675000.0, 351224000.0], 'startdate': [datetime.datetime(2018, 7, 2, 0, 0), datetime.datetime(2018, 4, 1, 0, 0), datetime.datetime(2017, 12, 31, 0, 0), datetime.datetime(2017, 10, 2, 0, 0), datetime.datetime(2017, 7, 2, 0, 0), datetime.datetime(2017, 4, 1, 0, 0), datetime.datetime(2016, 12, 31, 0, 0), datetime.datetime(2016, 10, 2, 0, 0), datetime.datetime(2016, 7, 2, 0, 0), datetime.datetime(2016, 4, 1, 0, 0), datetime.datetime(2016, 1, 1, 0, 0), datetime.datetime(2015, 10, 2, 0, 0), datetime.datetime(2015, 7, 2, 0, 0), datetime.datetime(2015, 4, 1, 0, 0), datetime.datetime(2014, 12, 31, 0, 0), datetime.datetime(2014, 10, 2, 0, 0)]}, 'MED': {'enddate': [datetime.datetime(2018, 9, 30, 0, 0), datetime.datetime(2018, 6, 30, 0, 0), datetime.datetime(2018, 3, 31, 0, 0), datetime.datetime(2017, 12, 31, 0, 0), datetime.datetime(2017, 9, 30, 0, 0), datetime.datetime(2017, 6, 30, 0, 0), datetime.datetime(2017, 3, 31, 0, 0), datetime.datetime(2016, 12, 31, 0, 0), datetime.datetime(2016, 9, 30, 0, 0), datetime.datetime(2016, 6, 30, 0, 0), datetime.datetime(2016, 3, 31, 0, 0), datetime.datetime(2015, 12, 31, 0, 0), datetime.datetime(2015, 9, 30, 0, 0), datetime.datetime(2015, 6, 30, 0, 0), datetime.datetime(2015, 3, 31, 0, 0), datetime.datetime(2014, 12, 31, 0, 0)], 'totalrevenue': [139239000.0, 117324000.0, 98596000.0, 78007000.0, 77205000.0, 75729000.0, 70622000.0, 62467000.0, 68578000.0, 71144000.0, 72345000.0, 61312000.0, 65936000.0, 72161000.0, 73364000.0, 62303000.0], 'startdate': [datetime.datetime(2018, 7, 2, 0, 0), datetime.datetime(2018, 4, 1, 0, 0), datetime.datetime(2017, 12, 31, 0, 0), datetime.datetime(2017, 10, 2, 0, 0), datetime.datetime(2017, 7, 2, 0, 0), datetime.datetime(2017, 4, 1, 0, 0), datetime.datetime(2016, 12, 31, 0, 0), datetime.datetime(2016, 10, 2, 0, 0), datetime.datetime(2016, 7, 2, 0, 0), datetime.datetime(2016, 4, 1, 0, 0), datetime.datetime(2016, 1, 1, 0, 0), datetime.datetime(2015, 10, 2, 0, 0), datetime.datetime(2015, 7, 2, 0, 0), datetime.datetime(2015, 4, 1, 0, 0), datetime.datetime(2014, 12, 31, 0, 0), datetime.datetime(2014, 10, 2, 0, 0)]}, 'TWMC': {'enddate': [datetime.datetime(2018, 8, 4, 0, 0), datetime.datetime(2018, 5, 5, 0, 0), datetime.datetime(2018, 2, 3, 0, 0), datetime.datetime(2017, 10, 28, 0, 0), datetime.datetime(2017, 7, 29, 0, 0), datetime.datetime(2017, 4, 29, 0, 0), datetime.datetime(2017, 1, 28, 0, 0), datetime.datetime(2016, 10, 29, 0, 0), datetime.datetime(2016, 7, 30, 0, 0), datetime.datetime(2016, 4, 30, 0, 0), datetime.datetime(2016, 1, 30, 0, 0), datetime.datetime(2015, 10, 31, 0, 0), datetime.datetime(2015, 8, 1, 0, 0), datetime.datetime(2015, 5, 2, 0, 0), datetime.datetime(2015, 1, 31, 0, 0), datetime.datetime(2014, 11, 1, 0, 0)], 'totalrevenue': [102174000.0, 96603000.0, 145410000.0, 93001000.0, 102479000.0, 101967000.0, 147111000.0, 66281000.0, 64348000.0, 75730000.0, 122752000.0, 69050000.0, 68539000.0, 79163000.0, 131683000.0, 72456000.0], 'startdate': [datetime.datetime(2018, 5, 6, 0, 0), datetime.datetime(2018, 2, 4, 0, 0), datetime.datetime(2017, 11, 5, 0, 0), datetime.datetime(2017, 7, 30, 0, 0), datetime.datetime(2017, 4, 30, 0, 0), datetime.datetime(2017, 1, 29, 0, 0), datetime.datetime(2016, 10, 30, 0, 0), datetime.datetime(2016, 7, 31, 0, 0), datetime.datetime(2016, 5, 1, 0, 0), datetime.datetime(2016, 1, 31, 0, 0), datetime.datetime(2015, 11, 1, 0, 0), datetime.datetime(2015, 8, 2, 0, 0), datetime.datetime(2015, 5, 3, 0, 0), datetime.datetime(2015, 2, 1, 0, 0), datetime.datetime(2014, 11, 2, 0, 0), datetime.datetime(2014, 8, 3, 0, 0)]}, 'KR': {'enddate': [datetime.datetime(2018, 8, 18, 0, 0), datetime.datetime(2018, 5, 26, 0, 0), datetime.datetime(2018, 2, 3, 0, 0), datetime.datetime(2017, 11, 4, 0, 0), datetime.datetime(2017, 8, 12, 0, 0), datetime.datetime(2017, 5, 20, 0, 0), datetime.datetime(2017, 1, 28, 0, 0), datetime.datetime(2016, 11, 5, 0, 0), datetime.datetime(2016, 8, 13, 0, 0), datetime.datetime(2016, 5, 21, 0, 0), datetime.datetime(2016, 1, 30, 0, 0), datetime.datetime(2015, 11, 7, 0, 0), datetime.datetime(2015, 8, 15, 0, 0), datetime.datetime(2015, 5, 23, 0, 0), datetime.datetime(2015, 1, 31, 0, 0), datetime.datetime(2014, 11, 8, 0, 0)], 'totalrevenue': [27869000000.0, 37530000000.0, 31031000000.0, 27749000000.0, 27597000000.0, 36285000000.0, 27611000000.0, 26557000000.0, 26565000000.0, 34604000000.0, 26165000000.0, 25075000000.0, 25539000000.0, 33051000000.0, 25207000000.0, 24987000000.0], 'startdate': [datetime.datetime(2018, 5, 20, 0, 0), datetime.datetime(2018, 2, 25, 0, 0), datetime.datetime(2017, 11, 5, 0, 0), datetime.datetime(2017, 8, 6, 0, 0), datetime.datetime(2017, 5, 14, 0, 0), datetime.datetime(2017, 2, 19, 0, 0), datetime.datetime(2016, 10, 30, 0, 0), datetime.datetime(2016, 8, 7, 0, 0), datetime.datetime(2016, 5, 15, 0, 0), datetime.datetime(2016, 2, 21, 0, 0), datetime.datetime(2015, 11, 1, 0, 0), datetime.datetime(2015, 8, 9, 0, 0), datetime.datetime(2015, 5, 17, 0, 0), datetime.datetime(2015, 2, 22, 0, 0), datetime.datetime(2014, 11, 2, 0, 0), datetime.datetime(2014, 8, 10, 0, 0)]}, 'HIBB': {'enddate': [datetime.datetime(2018, 8, 4, 0, 0), datetime.datetime(2018, 5, 5, 0, 0), datetime.datetime(2018, 2, 3, 0, 0), datetime.datetime(2017, 10, 28, 0, 0), datetime.datetime(2017, 7, 29, 0, 0), datetime.datetime(2017, 4, 29, 0, 0), datetime.datetime(2017, 1, 28, 0, 0), datetime.datetime(2016, 10, 29, 0, 0), datetime.datetime(2016, 7, 30, 0, 0), datetime.datetime(2016, 4, 30, 0, 0), datetime.datetime(2016, 1, 30, 0, 0), datetime.datetime(2015, 10, 31, 0, 0), datetime.datetime(2015, 8, 1, 0, 0), datetime.datetime(2015, 5, 2, 0, 0), datetime.datetime(2015, 1, 31, 0, 0), datetime.datetime(2014, 11, 1, 0, 0)], 'totalrevenue': [211123000.0, 274707000.0, 266739000.0, 237834000.0, 187958000.0, 275688000.0, 246929000.0, 237006000.0, 206933000.0, 282092000.0, 245719000.0, 228301000.0, 199261000.0, 269823000.0, 239338000.0, 218321000.0], 'startdate': [datetime.datetime(2018, 5, 6, 0, 0), datetime.datetime(2018, 2, 4, 0, 0), datetime.datetime(2017, 11, 5, 0, 0), datetime.datetime(2017, 7, 30, 0, 0), datetime.datetime(2017, 4, 30, 0, 0), datetime.datetime(2017, 1, 29, 0, 0), datetime.datetime(2016, 10, 30, 0, 0), datetime.datetime(2016, 7, 31, 0, 0), datetime.datetime(2016, 5, 1, 0, 0), datetime.datetime(2016, 1, 31, 0, 0), datetime.datetime(2015, 11, 1, 0, 0), datetime.datetime(2015, 8, 2, 0, 0), datetime.datetime(2015, 5, 3, 0, 0), datetime.datetime(2015, 2, 1, 0, 0), datetime.datetime(2014, 11, 2, 0, 0), datetime.datetime(2014, 8, 3, 0, 0)]}, 'TA': {'enddate': [datetime.datetime(2018, 9, 30, 0, 0), datetime.datetime(2018, 6, 30, 0, 0), datetime.datetime(2018, 3, 31, 0, 0), datetime.datetime(2017, 12, 31, 0, 0), datetime.datetime(2017, 9, 30, 0, 0), datetime.datetime(2017, 6, 30, 0, 0), datetime.datetime(2017, 3, 31, 0, 0), datetime.datetime(2016, 12, 31, 0, 0), datetime.datetime(2016, 9, 30, 0, 0), datetime.datetime(2016, 6, 30, 0, 0), datetime.datetime(2016, 3, 31, 0, 0), datetime.datetime(2015, 12, 31, 0, 0), datetime.datetime(2015, 9, 30, 0, 0), datetime.datetime(2015, 6, 30, 0, 0), datetime.datetime(2015, 3, 31, 0, 0), datetime.datetime(2014, 12, 31, 0, 0)], 'totalrevenue': [1659397000.0, 1840685000.0, 1584687000.0, 2135757000.0, 1378223000.0, 1499759000.0, 1391672000.0, 1408648000.0, 1462646000.0, 1430008000.0, 1149822000.0, 1308804000.0, 1508993000.0, 1582883000.0, 1407701000.0, 1725998000.0], 'startdate': [datetime.datetime(2018, 7, 2, 0, 0), datetime.datetime(2018, 4, 1, 0, 0), datetime.datetime(2017, 12, 31, 0, 0), datetime.datetime(2017, 10, 2, 0, 0), datetime.datetime(2017, 7, 2, 0, 0), datetime.datetime(2017, 4, 1, 0, 0), datetime.datetime(2016, 12, 31, 0, 0), datetime.datetime(2016, 10, 2, 0, 0), datetime.datetime(2016, 7, 2, 0, 0), datetime.datetime(2016, 4, 1, 0, 0), datetime.datetime(2016, 1, 1, 0, 0), datetime.datetime(2015, 10, 2, 0, 0), datetime.datetime(2015, 7, 2, 0, 0), datetime.datetime(2015, 4, 1, 0, 0), datetime.datetime(2014, 12, 31, 0, 0), datetime.datetime(2014, 10, 2, 0, 0)]}, 'SBH': {'enddate': [datetime.datetime(2018, 9, 30, 0, 0), datetime.datetime(2018, 6, 30, 0, 0), datetime.datetime(2018, 3, 31, 0, 0), datetime.datetime(2017, 12, 31, 0, 0), datetime.datetime(2017, 9, 30, 0, 0), datetime.datetime(2017, 6, 30, 0, 0), datetime.datetime(2017, 3, 31, 0, 0), datetime.datetime(2016, 12, 31, 0, 0), datetime.datetime(2016, 9, 30, 0, 0), datetime.datetime(2016, 6, 30, 0, 0), datetime.datetime(2016, 3, 31, 0, 0), datetime.datetime(2015, 12, 31, 0, 0), datetime.datetime(2015, 9, 30, 0, 0), datetime.datetime(2015, 6, 30, 0, 0), datetime.datetime(2015, 3, 31, 0, 0), datetime.datetime(2014, 12, 31, 0, 0)], 'totalrevenue': [965997000.0, 996283000.0, 975321000.0, 994964000.0, 974195000.0, 998043000.0, 966470000.0, 999609000.0, 3952618000.0, 998161000.0, 980067000.0, 998032000.0, 964231000.0, 967890000.0, 937755000.0, 964468000.0], 'startdate': [datetime.datetime(2018, 7, 2, 0, 0), datetime.datetime(2018, 4, 1, 0, 0), datetime.datetime(2017, 12, 31, 0, 0), datetime.datetime(2017, 10, 2, 0, 0), datetime.datetime(2017, 7, 2, 0, 0), datetime.datetime(2017, 4, 1, 0, 0), datetime.datetime(2016, 12, 31, 0, 0), datetime.datetime(2016, 10, 2, 0, 0), datetime.datetime(2016, 7, 2, 0, 0), datetime.datetime(2016, 4, 1, 0, 0), datetime.datetime(2016, 1, 1, 0, 0), datetime.datetime(2015, 10, 2, 0, 0), datetime.datetime(2015, 7, 2, 0, 0), datetime.datetime(2015, 4, 1, 0, 0), datetime.datetime(2014, 12, 31, 0, 0), datetime.datetime(2014, 10, 2, 0, 0)]}, 'SGU': {'enddate': [datetime.datetime(2018, 6, 30, 0, 0), datetime.datetime(2018, 3, 31, 0, 0), datetime.datetime(2017, 12, 31, 0, 0), datetime.datetime(2017, 9, 30, 0, 0), datetime.datetime(2017, 6, 30, 0, 0), datetime.datetime(2017, 3, 31, 0, 0), datetime.datetime(2016, 12, 31, 0, 0), datetime.datetime(2016, 9, 30, 0, 0), datetime.datetime(2016, 6, 30, 0, 0), datetime.datetime(2016, 3, 31, 0, 0), datetime.datetime(2015, 12, 31, 0, 0), datetime.datetime(2015, 9, 30, 0, 0), datetime.datetime(2015, 6, 30, 0, 0), datetime.datetime(2015, 3, 31, 0, 0), datetime.datetime(2014, 12, 31, 0, 0), datetime.datetime(2014, 9, 30, 0, 0)], 'totalrevenue': [327354000.0, 684031000.0, 436834000.0, 181584000.0, 225801000.0, 532052000.0, 384118000.0, 162064000.0, 218194000.0, 462025000.0, 319055000.0, 167161000.0, 245604000.0, 762309000.0, 499217000.0, 222362000.0], 'startdate': [datetime.datetime(2018, 4, 1, 0, 0), datetime.datetime(2017, 12, 31, 0, 0), datetime.datetime(2017, 10, 2, 0, 0), datetime.datetime(2017, 7, 2, 0, 0), datetime.datetime(2017, 4, 1, 0, 0), datetime.datetime(2016, 12, 31, 0, 0), datetime.datetime(2016, 10, 2, 0, 0), datetime.datetime(2016, 7, 2, 0, 0), datetime.datetime(2016, 4, 1, 0, 0), datetime.datetime(2016, 1, 1, 0, 0), datetime.datetime(2015, 10, 2, 0, 0), datetime.datetime(2015, 7, 2, 0, 0), datetime.datetime(2015, 4, 1, 0, 0), datetime.datetime(2014, 12, 31, 0, 0), datetime.datetime(2014, 10, 2, 0, 0), datetime.datetime(2014, 7, 2, 0, 0)]}, 'CONN': {'enddate': [datetime.datetime(2018, 7, 31, 0, 0), datetime.datetime(2018, 4, 30, 0, 0), datetime.datetime(2018, 1, 31, 0, 0), datetime.datetime(2017, 10, 31, 0, 0), datetime.datetime(2017, 7, 31, 0, 0), datetime.datetime(2017, 4, 30, 0, 0), datetime.datetime(2017, 1, 31, 0, 0), datetime.datetime(2016, 10, 31, 0, 0), datetime.datetime(2016, 7, 31, 0, 0), datetime.datetime(2016, 4, 30, 0, 0), datetime.datetime(2016, 1, 31, 0, 0), datetime.datetime(2015, 10, 31, 0, 0), datetime.datetime(2015, 7, 31, 0, 0), datetime.datetime(2015, 4, 30, 0, 0), datetime.datetime(2015, 1, 31, 0, 0), datetime.datetime(2014, 10, 31, 0, 0)], 'totalrevenue': [384620000.0, 358387000.0, 420386000.0, 373172000.0, 366647000.0, 355826000.0, 432805000.0, 376773000.0, 398157000.0, 389113000.0, 456819000.0, 395233000.0, 396050000.0, 365076000.0, 426748000.0, 370058000.0], 'startdate': [datetime.datetime(2018, 5, 2, 0, 0), datetime.datetime(2018, 1, 30, 0, 0), datetime.datetime(2017, 11, 2, 0, 0), datetime.datetime(2017, 8, 2, 0, 0), datetime.datetime(2017, 5, 2, 0, 0), datetime.datetime(2017, 1, 30, 0, 0), datetime.datetime(2016, 11, 2, 0, 0), datetime.datetime(2016, 8, 2, 0, 0), datetime.datetime(2016, 5, 2, 0, 0), datetime.datetime(2016, 1, 31, 0, 0), datetime.datetime(2015, 11, 2, 0, 0), datetime.datetime(2015, 8, 2, 0, 0), datetime.datetime(2015, 5, 2, 0, 0), datetime.datetime(2015, 1, 30, 0, 0), datetime.datetime(2014, 11, 2, 0, 0), datetime.datetime(2014, 8, 2, 0, 0)]}, 'CVS': {'enddate': [datetime.datetime(2018, 9, 30, 0, 0), datetime.datetime(2018, 6, 30, 0, 0), datetime.datetime(2018, 3, 31, 0, 0), datetime.datetime(2017, 12, 31, 0, 0), datetime.datetime(2017, 9, 30, 0, 0), datetime.datetime(2017, 6, 30, 0, 0), datetime.datetime(2017, 3, 31, 0, 0), datetime.datetime(2016, 12, 31, 0, 0), datetime.datetime(2016, 9, 30, 0, 0), datetime.datetime(2016, 6, 30, 0, 0), datetime.datetime(2016, 3, 31, 0, 0), datetime.datetime(2015, 12, 31, 0, 0), datetime.datetime(2015, 9, 30, 0, 0), datetime.datetime(2015, 6, 30, 0, 0), datetime.datetime(2015, 3, 31, 0, 0), datetime.datetime(2014, 12, 31, 0, 0)], 'totalrevenue': [47269000000.0, 46708000000.0, 45693000000.0, 184765000000.0, 46181000000.0, 45685000000.0, 44514000000.0, 45971000000.0, 44615000000.0, 43725000000.0, 43215000000.0, 41146000000.0, 38644000000.0, 37169000000.0, 36332000000.0, 37055000000.0], 'startdate': [datetime.datetime(2018, 7, 2, 0, 0), datetime.datetime(2018, 4, 1, 0, 0), datetime.datetime(2017, 12, 31, 0, 0), datetime.datetime(2017, 10, 2, 0, 0), datetime.datetime(2017, 7, 2, 0, 0), datetime.datetime(2017, 4, 1, 0, 0), datetime.datetime(2016, 12, 31, 0, 0), datetime.datetime(2016, 10, 2, 0, 0), datetime.datetime(2016, 7, 2, 0, 0), datetime.datetime(2016, 4, 1, 0, 0), datetime.datetime(2016, 1, 1, 0, 0), datetime.datetime(2015, 10, 2, 0, 0), datetime.datetime(2015, 7, 2, 0, 0), datetime.datetime(2015, 4, 1, 0, 0), datetime.datetime(2014, 12, 31, 0, 0), datetime.datetime(2014, 10, 2, 0, 0)]}, 'RAD': {'enddate': [datetime.datetime(2018, 9, 1, 0, 0), datetime.datetime(2018, 6, 2, 0, 0), datetime.datetime(2018, 3, 3, 0, 0), datetime.datetime(2017, 12, 2, 0, 0), datetime.datetime(2017, 9, 2, 0, 0), datetime.datetime(2017, 6, 3, 0, 0), datetime.datetime(2017, 3, 4, 0, 0), datetime.datetime(2016, 11, 26, 0, 0), datetime.datetime(2016, 8, 27, 0, 0), datetime.datetime(2016, 5, 28, 0, 0), datetime.datetime(2016, 2, 27, 0, 0), datetime.datetime(2015, 11, 28, 0, 0), datetime.datetime(2015, 8, 29, 0, 0), datetime.datetime(2015, 5, 30, 0, 0), datetime.datetime(2015, 2, 28, 0, 0), datetime.datetime(2014, 11, 29, 0, 0)], 'totalrevenue': [5421362000.0, 5388490000.0, 5394264000.0, 5353170000.0, 5345011000.0, 5436523000.0, 5903386000.0, 5669111000.0, 8029806000.0, 8184181000.0, -1696284000.0, 8154184000.0, 7664776000.0, 6647561000.0, 6847929000.0, 6692333000.0], 'startdate': [datetime.datetime(2018, 6, 3, 0, 0), datetime.datetime(2018, 3, 4, 0, 0), datetime.datetime(2017, 12, 3, 0, 0), datetime.datetime(2017, 9, 3, 0, 0), datetime.datetime(2017, 6, 4, 0, 0), datetime.datetime(2017, 3, 5, 0, 0), datetime.datetime(2016, 12, 4, 0, 0), datetime.datetime(2016, 8, 28, 0, 0), datetime.datetime(2016, 5, 29, 0, 0), datetime.datetime(2016, 2, 28, 0, 0), datetime.datetime(2015, 11, 29, 0, 0), datetime.datetime(2015, 8, 30, 0, 0), datetime.datetime(2015, 5, 31, 0, 0), datetime.datetime(2015, 3, 1, 0, 0), datetime.datetime(2014, 11, 30, 0, 0), datetime.datetime(2014, 8, 31, 0, 0)]}, 'TITN': {'enddate': [datetime.datetime(2018, 7, 31, 0, 0), datetime.datetime(2018, 4, 30, 0, 0), datetime.datetime(2018, 1, 31, 0, 0), datetime.datetime(2017, 10, 31, 0, 0), datetime.datetime(2017, 7, 31, 0, 0), datetime.datetime(2017, 4, 30, 0, 0), datetime.datetime(2017, 1, 31, 0, 0), datetime.datetime(2016, 10, 31, 0, 0), datetime.datetime(2016, 7, 31, 0, 0), datetime.datetime(2016, 4, 30, 0, 0), datetime.datetime(2016, 1, 31, 0, 0), datetime.datetime(2015, 10, 31, 0, 0), datetime.datetime(2015, 7, 31, 0, 0), datetime.datetime(2015, 4, 30, 0, 0), datetime.datetime(2015, 1, 31, 0, 0), datetime.datetime(2014, 10, 31, 0, 0)], 'totalrevenue': [299891000.0, 245678000.0, 339608000.0, 330341000.0, 268871000.0, 264118000.0, 317621000.0, 332266000.0, 278333000.0, 284860000.0, 335474000.0, 344975000.0, 334190000.0, 353196000.0, 490652000.0, 493141000.0], 'startdate': [datetime.datetime(2018, 5, 2, 0, 0), datetime.datetime(2018, 1, 30, 0, 0), datetime.datetime(2017, 11, 2, 0, 0), datetime.datetime(2017, 8, 2, 0, 0), datetime.datetime(2017, 5, 2, 0, 0), datetime.datetime(2017, 1, 30, 0, 0), datetime.datetime(2016, 11, 2, 0, 0), datetime.datetime(2016, 8, 2, 0, 0), datetime.datetime(2016, 5, 2, 0, 0), datetime.datetime(2016, 1, 31, 0, 0), datetime.datetime(2015, 11, 2, 0, 0), datetime.datetime(2015, 8, 2, 0, 0), datetime.datetime(2015, 5, 2, 0, 0), datetime.datetime(2015, 1, 30, 0, 0), datetime.datetime(2014, 11, 2, 0, 0), datetime.datetime(2014, 8, 2, 0, 0)]}, 'SVU': {'enddate': [datetime.datetime(2018, 9, 8, 0, 0), datetime.datetime(2018, 6, 16, 0, 0), datetime.datetime(2018, 2, 24, 0, 0), datetime.datetime(2017, 12, 2, 0, 0), datetime.datetime(2017, 9, 9, 0, 0), datetime.datetime(2017, 6, 17, 0, 0), datetime.datetime(2017, 2, 25, 0, 0), datetime.datetime(2016, 12, 3, 0, 0), datetime.datetime(2016, 9, 10, 0, 0), datetime.datetime(2016, 6, 18, 0, 0), datetime.datetime(2016, 2, 27, 0, 0), datetime.datetime(2015, 12, 5, 0, 0), datetime.datetime(2015, 9, 12, 0, 0), datetime.datetime(2015, 6, 20, 0, 0), datetime.datetime(2015, 2, 28, 0, 0), datetime.datetime(2014, 11, 29, 0, 0)], 'totalrevenue': [3512000000.0, 4755000000.0, 2415000000.0, 3938000000.0, 3449000000.0, 3517000000.0, 1339000000.0, 3003000000.0, 2805000000.0, 3765000000.0, 1267000000.0, 3045000000.0, 4062000000.0, 5407000000.0, -253000000.0, 4225000000.0], 'startdate': [datetime.datetime(2018, 6, 10, 0, 0), datetime.datetime(2018, 3, 18, 0, 0), datetime.datetime(2017, 11, 26, 0, 0), datetime.datetime(2017, 9, 3, 0, 0), datetime.datetime(2017, 6, 11, 0, 0), datetime.datetime(2017, 3, 19, 0, 0), datetime.datetime(2016, 11, 27, 0, 0), datetime.datetime(2016, 9, 4, 0, 0), datetime.datetime(2016, 6, 12, 0, 0), datetime.datetime(2016, 3, 20, 0, 0), datetime.datetime(2015, 11, 29, 0, 0), datetime.datetime(2015, 9, 6, 0, 0), datetime.datetime(2015, 6, 14, 0, 0), datetime.datetime(2015, 3, 22, 0, 0), datetime.datetime(2014, 11, 30, 0, 0), datetime.datetime(2014, 8, 31, 0, 0)]}, 'PIR': {'enddate': [datetime.datetime(2018, 9, 1, 0, 0), datetime.datetime(2018, 6, 2, 0, 0), datetime.datetime(2018, 3, 3, 0, 0), datetime.datetime(2017, 11, 25, 0, 0), datetime.datetime(2017, 8, 26, 0, 0), datetime.datetime(2017, 5, 27, 0, 0), datetime.datetime(2017, 2, 25, 0, 0), datetime.datetime(2016, 11, 26, 0, 0), datetime.datetime(2016, 8, 27, 0, 0), datetime.datetime(2016, 5, 28, 0, 0), datetime.datetime(2016, 2, 27, 0, 0), datetime.datetime(2015, 11, 28, 0, 0), datetime.datetime(2015, 8, 29, 0, 0), datetime.datetime(2015, 5, 30, 0, 0), datetime.datetime(2015, 2, 28, 0, 0), datetime.datetime(2014, 11, 29, 0, 0)], 'totalrevenue': [355336000.0, 371864000.0, 512229000.0, 469161000.0, 407607000.0, 409525000.0, 528352000.0, 475901000.0, 405823000.0, 418370000.0, 542325000.0, 478047000.0, 434992000.0, 436866000.0, 562375000.0, 484501000.0], 'startdate': [datetime.datetime(2018, 6, 3, 0, 0), datetime.datetime(2018, 3, 4, 0, 0), datetime.datetime(2017, 12, 3, 0, 0), datetime.datetime(2017, 8, 27, 0, 0), datetime.datetime(2017, 5, 28, 0, 0), datetime.datetime(2017, 2, 26, 0, 0), datetime.datetime(2016, 11, 27, 0, 0), datetime.datetime(2016, 8, 28, 0, 0), datetime.datetime(2016, 5, 29, 0, 0), datetime.datetime(2016, 2, 28, 0, 0), datetime.datetime(2015, 11, 29, 0, 0), datetime.datetime(2015, 8, 30, 0, 0), datetime.datetime(2015, 5, 31, 0, 0), datetime.datetime(2015, 3, 1, 0, 0), datetime.datetime(2014, 11, 30, 0, 0), datetime.datetime(2014, 8, 31, 0, 0)]}, 'HBP': {'enddate': [datetime.datetime(2018, 9, 30, 0, 0), datetime.datetime(2018, 6, 30, 0, 0), datetime.datetime(2018, 3, 31, 0, 0), datetime.datetime(2017, 12, 31, 0, 0), datetime.datetime(2017, 9, 30, 0, 0), datetime.datetime(2017, 6, 30, 0, 0), datetime.datetime(2017, 3, 31, 0, 0), datetime.datetime(2016, 12, 31, 0, 0), datetime.datetime(2016, 9, 30, 0, 0), datetime.datetime(2016, 6, 30, 0, 0), datetime.datetime(2016, 3, 31, 0, 0), datetime.datetime(2015, 12, 31, 0, 0), datetime.datetime(2015, 9, 30, 0, 0), datetime.datetime(2015, 6, 30, 0, 0), datetime.datetime(2015, 3, 31, 0, 0), datetime.datetime(2014, 12, 31, 0, 0)], 'totalrevenue': [222000000.0, 223400000.0, 198000000.0, 179200000.0, 199600000.0, 198700000.0, 175700000.0, 164400000.0, 192800000.0, 197900000.0, 158800000.0, 155400000.0, 181700000.0, 175100000.0, 147400000.0, 145200000.0], 'startdate': [datetime.datetime(2018, 7, 2, 0, 0), datetime.datetime(2018, 4, 1, 0, 0), datetime.datetime(2017, 12, 31, 0, 0), datetime.datetime(2017, 10, 2, 0, 0), datetime.datetime(2017, 7, 2, 0, 0), datetime.datetime(2017, 4, 1, 0, 0), datetime.datetime(2016, 12, 31, 0, 0), datetime.datetime(2016, 10, 2, 0, 0), datetime.datetime(2016, 7, 2, 0, 0), datetime.datetime(2016, 4, 1, 0, 0), datetime.datetime(2016, 1, 1, 0, 0), datetime.datetime(2015, 10, 2, 0, 0), datetime.datetime(2015, 7, 2, 0, 0), datetime.datetime(2015, 4, 1, 0, 0), datetime.datetime(2014, 12, 31, 0, 0), datetime.datetime(2014, 10, 2, 0, 0)]}, 'LL': {'enddate': [datetime.datetime(2018, 9, 30, 0, 0), datetime.datetime(2018, 6, 30, 0, 0), datetime.datetime(2018, 3, 31, 0, 0), datetime.datetime(2017, 12, 31, 0, 0), datetime.datetime(2017, 9, 30, 0, 0), datetime.datetime(2017, 6, 30, 0, 0), datetime.datetime(2017, 3, 31, 0, 0), datetime.datetime(2016, 12, 31, 0, 0), datetime.datetime(2016, 9, 30, 0, 0), datetime.datetime(2016, 6, 30, 0, 0), datetime.datetime(2016, 3, 31, 0, 0), datetime.datetime(2015, 12, 31, 0, 0), datetime.datetime(2015, 9, 30, 0, 0), datetime.datetime(2015, 6, 30, 0, 0), datetime.datetime(2015, 3, 31, 0, 0), datetime.datetime(2014, 12, 31, 0, 0)], 'totalrevenue': [270469000.0, 283474000.0, 261772000.0, 259859000.0, 257185000.0, 263500000.0, 248389000.0, 244901000.0, 244082000.0, 238092000.0, 233513000.0, 234807000.0, 236064000.0, 247944000.0, 259961000.0, 271976000.0], 'startdate': [datetime.datetime(2018, 7, 2, 0, 0), datetime.datetime(2018, 4, 1, 0, 0), datetime.datetime(2017, 12, 31, 0, 0), datetime.datetime(2017, 10, 2, 0, 0), datetime.datetime(2017, 7, 2, 0, 0), datetime.datetime(2017, 4, 1, 0, 0), datetime.datetime(2016, 12, 31, 0, 0), datetime.datetime(2016, 10, 2, 0, 0), datetime.datetime(2016, 7, 2, 0, 0), datetime.datetime(2016, 4, 1, 0, 0), datetime.datetime(2016, 1, 1, 0, 0), datetime.datetime(2015, 10, 2, 0, 0), datetime.datetime(2015, 7, 2, 0, 0), datetime.datetime(2015, 4, 1, 0, 0), datetime.datetime(2014, 12, 31, 0, 0), datetime.datetime(2014, 10, 2, 0, 0)]}})\n"
     ]
    }
   ],
   "source": [
    "print(Revenue_Table)"
   ]
  },
  {
   "cell_type": "code",
   "execution_count": null,
   "metadata": {
    "collapsed": true
   },
   "outputs": [],
   "source": []
  }
 ],
 "metadata": {
  "anaconda-cloud": {},
  "kernelspec": {
   "display_name": "Python [Root]",
   "language": "python",
   "name": "Python [Root]"
  },
  "language_info": {
   "codemirror_mode": {
    "name": "ipython",
    "version": 3
   },
   "file_extension": ".py",
   "mimetype": "text/x-python",
   "name": "python",
   "nbconvert_exporter": "python",
   "pygments_lexer": "ipython3",
   "version": "3.5.2"
  }
 },
 "nbformat": 4,
 "nbformat_minor": 0
}
